{
  "nbformat_minor": 0, 
  "nbformat": 4, 
  "cells": [
    {
      "execution_count": null, 
      "cell_type": "code", 
      "source": [
        "%matplotlib inline"
      ], 
      "outputs": [], 
      "metadata": {
        "collapsed": false
      }
    }, 
    {
      "source": [
        "\n# Plotting Regresssion Forest Error Bars\n\n\nThis example demonstrates using `forestci` to calculate the error bars of\nthe predictions of a :class:`sklearn.ensemble.RandomForestRegressor` object.\n\nThe data used here are a classical machine learning data-set, describing\nvarious features of different cars, and their MPG.\n\n"
      ], 
      "cell_type": "markdown", 
      "metadata": {}
    }, 
    {
      "execution_count": null, 
      "cell_type": "code", 
      "source": [
        "# Regression Forest Example\nimport numpy as np\nfrom matplotlib import pyplot as plt\nfrom sklearn.ensemble import RandomForestRegressor\nimport sklearn.model_selection as xval\nfrom sklearn.datasets.mldata import fetch_mldata\nimport forestci as fci\n\n# retreive mpg data from machine learning library\nmpg_data = fetch_mldata('mpg')\n\n# separate mpg data into predictors and outcome variable\nmpg_X = mpg_data[\"data\"]\nmpg_y = mpg_data[\"target\"]\n\n# split mpg data into training and test set\nmpg_X_train, mpg_X_test, mpg_y_train, mpg_y_test = xval.train_test_split(\n                                                   mpg_X, mpg_y,\n                                                   test_size=0.25,\n                                                   random_state=42\n                                                   )\n\n# create RandomForestRegressor\nn_trees = 2000\nmpg_forest = RandomForestRegressor(n_estimators=n_trees, random_state=42)\nmpg_forest.fit(mpg_X_train, mpg_y_train)\nmpg_y_hat = mpg_forest.predict(mpg_X_test)\n\n# Plot predicted MPG without error bars\nplt.scatter(mpg_y_test, mpg_y_hat)\nplt.plot([5, 45], [5, 45], 'k--')\nplt.xlabel('Reported MPG')\nplt.ylabel('Predicted MPG')\nplt.show()\n\n# Calculate the variance:\nmpg_V_IJ_unbiased = fci.random_forest_error(mpg_forest, mpg_X_train,\n                                            mpg_X_test)\n\n# Plot error bars for predicted MPG using unbiased variance\nplt.errorbar(mpg_y_test, mpg_y_hat, yerr=np.sqrt(mpg_V_IJ_unbiased), fmt='o')\nplt.plot([5, 45], [5, 45], 'k--')\nplt.xlabel('Reported MPG')\nplt.ylabel('Predicted MPG')\nplt.show()"
      ], 
      "outputs": [], 
      "metadata": {
        "collapsed": false
      }
    }
  ], 
  "metadata": {
    "kernelspec": {
      "display_name": "Python 2", 
      "name": "python2", 
      "language": "python"
    }, 
    "language_info": {
      "mimetype": "text/x-python", 
      "nbconvert_exporter": "python", 
      "name": "python", 
      "file_extension": ".py", 
      "version": "2.7.6", 
      "pygments_lexer": "ipython2", 
      "codemirror_mode": {
        "version": 2, 
        "name": "ipython"
      }
    }
  }
}